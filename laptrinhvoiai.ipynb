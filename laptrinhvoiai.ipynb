{
  "nbformat": 4,
  "nbformat_minor": 0,
  "metadata": {
    "colab": {
      "provenance": [],
      "authorship_tag": "ABX9TyM1wMpF2gYmD+vAiM5Z8YFN",
      "include_colab_link": true
    },
    "kernelspec": {
      "name": "python3",
      "display_name": "Python 3"
    },
    "language_info": {
      "name": "python"
    }
  },
  "cells": [
    {
      "cell_type": "markdown",
      "metadata": {
        "id": "view-in-github",
        "colab_type": "text"
      },
      "source": [
        "<a href=\"https://colab.research.google.com/github/tp-coder-2006/COMP8/blob/main/laptrinhvoiai.ipynb\" target=\"_parent\"><img src=\"https://colab.research.google.com/assets/colab-badge.svg\" alt=\"Open In Colab\"/></a>"
      ]
    },
    {
      "cell_type": "code",
      "execution_count": null,
      "metadata": {
        "id": "tLnAaYCJUHwa"
      },
      "outputs": [],
      "source": [
        "#W1A1\n",
        "a = 7\n",
        "b = 5\n",
        "c = a - b\n",
        "print(c)"
      ]
    },
    {
      "cell_type": "code",
      "source": [
        "#W1A2\n",
        "city = \"Hà Nội\"\n",
        "year = 2025\n",
        "print(\"Thành phố: \", city, \" - Năm: \", year)"
      ],
      "metadata": {
        "id": "wYExblnXaBfm"
      },
      "execution_count": null,
      "outputs": []
    },
    {
      "cell_type": "code",
      "source": [
        "#W1A3\n",
        "n = 4\n",
        "t = 0\n",
        "for i in range(1, n+1):\n",
        "t += i\n",
        "print(t)"
      ],
      "metadata": {
        "id": "cHHwqZCgaG8L"
      },
      "execution_count": null,
      "outputs": []
    },
    {
      "cell_type": "code",
      "source": [
        "#W1A4\n",
        "numbers = [1, 2, 3, 4]\n",
        "for x in numbers:\n",
        "if x % 2 == 0:\n",
        "print(x, \"là số chẵn\")\n",
        "else:\n",
        "print(x, \"là số lẻ\")"
      ],
      "metadata": {
        "id": "1rWmQOZBaNac"
      },
      "execution_count": null,
      "outputs": []
    },
    {
      "cell_type": "code",
      "source": [
        "#W1A5\n",
        "animals = [\"cat\", \"dog\", \"cat\", \"bird\"]\n",
        "count = 0\n",
        "for a in animals:\n",
        "count += 1\n",
        "print(\"Số phần tử trong danh sách là:\", count)"
      ],
      "metadata": {
        "id": "_7nDbatfaReH"
      },
      "execution_count": null,
      "outputs": []
    },
    {
      "cell_type": "code",
      "source": [
        "#W1A7\n",
        "num = input(\"Nhập số: \")\n",
        "if int(num) % 2 == 0:\n",
        "  print(\"Số chẵn\")\n",
        "else:\n",
        "  print(\"Số lẻ\")"
      ],
      "metadata": {
        "colab": {
          "base_uri": "https://localhost:8080/"
        },
        "id": "TJKg24uTf9fa",
        "outputId": "e47d6572-0dd5-4b40-c97d-42a739044e82"
      },
      "execution_count": 7,
      "outputs": [
        {
          "output_type": "stream",
          "name": "stdout",
          "text": [
            "Nhập số: 8\n",
            "Số chẵn\n"
          ]
        }
      ]
    },
    {
      "cell_type": "code",
      "source": [
        "#W1A8\n",
        "for i in range(3):\n",
        "  print(\"AI đang học lần\", i + 1)\n",
        "print(\"Huấn luyện xong!\")"
      ],
      "metadata": {
        "colab": {
          "base_uri": "https://localhost:8080/"
        },
        "id": "CFmJzB8egVGB",
        "outputId": "d6750e4a-e957-4586-cba1-f12bbef703ff"
      },
      "execution_count": 10,
      "outputs": [
        {
          "output_type": "stream",
          "name": "stdout",
          "text": [
            "AI đang học lần 1\n",
            "AI đang học lần 2\n",
            "AI đang học lần 3\n",
            "Huấn luyện xong!\n"
          ]
        }
      ]
    },
    {
      "cell_type": "code",
      "source": [
        "#W1A9\n",
        "for x in [\"cat\", \"dog\", \"fish\"]:\n",
        "  print(\"Dự đoán con vật:\", x)"
      ],
      "metadata": {
        "colab": {
          "base_uri": "https://localhost:8080/"
        },
        "id": "n_iOZ57jgnwX",
        "outputId": "0b70f630-a9f5-4b67-d609-5efdd4f34eed"
      },
      "execution_count": 12,
      "outputs": [
        {
          "output_type": "stream",
          "name": "stdout",
          "text": [
            "Dự đoán con vật: cat\n",
            "Dự đoán con vật: dog\n",
            "Dự đoán con vật: fish\n"
          ]
        }
      ]
    },
    {
      "cell_type": "code",
      "source": [
        "#W1A10\n",
        "# Simple menu\n",
        "print(\"=== AI Prediction System ===\")\n",
        "print(\"1) Sentiment analysis\")\n",
        "print(\"2) Weather forecast\")\n",
        "print('3) Exit')\n",
        "print(\"Please choose an option:\")"
      ],
      "metadata": {
        "colab": {
          "base_uri": "https://localhost:8080/"
        },
        "id": "7xxXk2Weysse",
        "outputId": "3b0d34a4-a852-4bd1-8dc5-6fb19c0c7f60"
      },
      "execution_count": 14,
      "outputs": [
        {
          "output_type": "stream",
          "name": "stdout",
          "text": [
            "=== AI Prediction System ===\n",
            "1) Sentiment analysis\n",
            "2) Weather forecast\n",
            "3) Exit\n",
            "Please choose an option:\n"
          ]
        }
      ]
    }
  ]
}