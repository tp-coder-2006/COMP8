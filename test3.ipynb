{
  "nbformat": 4,
  "nbformat_minor": 0,
  "metadata": {
    "colab": {
      "provenance": [],
      "authorship_tag": "ABX9TyMjzzUYQBoF9o3vIRKyoYoU",
      "include_colab_link": true
    },
    "kernelspec": {
      "name": "python3",
      "display_name": "Python 3"
    },
    "language_info": {
      "name": "python"
    }
  },
  "cells": [
    {
      "cell_type": "markdown",
      "metadata": {
        "id": "view-in-github",
        "colab_type": "text"
      },
      "source": [
        "<a href=\"https://colab.research.google.com/github/tp-coder-2006/COMP8/blob/main/test3.ipynb\" target=\"_parent\"><img src=\"https://colab.research.google.com/assets/colab-badge.svg\" alt=\"Open In Colab\"/></a>"
      ]
    },
    {
      "cell_type": "code",
      "execution_count": 1,
      "metadata": {
        "id": "ZEt8dZ4kDw1_",
        "colab": {
          "base_uri": "https://localhost:8080/"
        },
        "outputId": "1f17fb5d-be54-4150-e0db-69888fb1b192"
      },
      "outputs": [
        {
          "output_type": "stream",
          "name": "stdout",
          "text": [
            "Nhập số nguyên: 12345\n",
            "54321\n"
          ]
        }
      ],
      "source": [
        "#1 Viết một chương trình nhập vào một số nguyên n và in ra các chữ số đảo ngược nhau.\n",
        "sdn = int(input(\"Nhập số nguyên: \"))\n",
        "sdn = str(sdn)\n",
        "sdn = sdn[::-1]\n",
        "print(sdn)"
      ]
    },
    {
      "cell_type": "code",
      "source": [
        "#2\n",
        "\"\"\"Hoán đổi hai số không sd biến tạm thời\n",
        "Sử dụng phép toán XOR bitwise để hoán đổi giá trị của hai biến.\"\"\"\n",
        "a, b = map(int, input(\"Nhập 2 số nguyên: \").split())\n",
        "a = a ^ b\n",
        "b = a ^ b\n",
        "a = a ^ b\n",
        "print(a, b)"
      ],
      "metadata": {
        "id": "rGoTv1DeFn_l",
        "colab": {
          "base_uri": "https://localhost:8080/"
        },
        "outputId": "c88ffd0e-bacf-40ef-c1b0-6b8aa554f4c1"
      },
      "execution_count": 2,
      "outputs": [
        {
          "output_type": "stream",
          "name": "stdout",
          "text": [
            "Nhập 2 số nguyên: 4 5\n",
            "5 4\n"
          ]
        }
      ]
    },
    {
      "cell_type": "code",
      "source": [
        "#3\n",
        "\"\"\"Kiểm tra xem một số có phải là lũy thừa của 2 hay không\n",
        "Sử dụng các toán tử bitwise để xác định xem một số có phải là lũy thừa của 2 hay không.\n",
        "Gợi ý: Đối với lũy thừa của 2, n & (n-1) == 0\"\"\"\n",
        "n = int(input(\"Nhập số nguyên: \"))\n",
        "if n & (n-1) == 0:\n",
        "    print(\"Yes\")\n",
        "else:\n",
        "    print(\"No\")\n"
      ],
      "metadata": {
        "id": "Rsc9ug05Ft5G",
        "colab": {
          "base_uri": "https://localhost:8080/"
        },
        "outputId": "06bb38d9-dbc1-4b54-d895-0c6f0df329cc"
      },
      "execution_count": 4,
      "outputs": [
        {
          "output_type": "stream",
          "name": "stdout",
          "text": [
            "Nhập số nguyên: 16\n",
            "Yes\n"
          ]
        }
      ]
    },
    {
      "cell_type": "code",
      "source": [
        "#4 viêt chương trình chia một số m cho n, kết quả thu được làm tròn xuống\n",
        "import math\n",
        "m, n = map(int, input(\"Nhập 2 số nguyên: \").split())\n",
        "p = math.floor(m/n)\n",
        "print(p)"
      ],
      "metadata": {
        "id": "hRAf3ybtFzZ6",
        "colab": {
          "base_uri": "https://localhost:8080/"
        },
        "outputId": "e9b6c68e-c6d5-4add-aaba-9bd12e188fea"
      },
      "execution_count": 19,
      "outputs": [
        {
          "output_type": "stream",
          "name": "stdout",
          "text": [
            "Nhập 2 số nguyên: 5 3\n",
            "1\n"
          ]
        }
      ]
    },
    {
      "cell_type": "code",
      "source": [
        "#5 viêt chương trình chia một số m cho n, kết quả thu được làm tròn lên\n",
        "import math\n",
        "m, n = map(int, input(\"Nhập 2 số nguyên: \").split())\n",
        "p = math.ceil(m/n)\n",
        "print(p)"
      ],
      "metadata": {
        "id": "wXw7CBf2F3yI",
        "colab": {
          "base_uri": "https://localhost:8080/"
        },
        "outputId": "5a4719e7-459a-4b40-ff3c-8a5ece650396"
      },
      "execution_count": 21,
      "outputs": [
        {
          "output_type": "stream",
          "name": "stdout",
          "text": [
            "Nhập 2 số nguyên: 4 3\n",
            "2\n"
          ]
        }
      ]
    },
    {
      "cell_type": "code",
      "source": [
        "#6\n",
        "\"\"\"[Even and Odd]\n",
        "Nhập vào một số nguyên dương x, bạn hãy kiểm tra xem x là số chẵn hay lẻ. Nếu x là số chẵn, in ra\n",
        "\"Even\". Nếu x là số lẻ, in ra \"Odd\". \"\"\"\n",
        "x = int(input(\"Nhập vào một số nguyên dương: \"))\n",
        "if x % 2 == 0:\n",
        "    print(\"Even\")\n",
        "else:\n",
        "    print(\"Odd\")"
      ],
      "metadata": {
        "id": "SRql8gXMGFuB"
      },
      "execution_count": null,
      "outputs": []
    },
    {
      "cell_type": "code",
      "source": [
        "#7\n",
        "\"\"\"[Check negative numbers]\n",
        "Nhập vào hai số nguyên a, b. Nếu cả hai số a, b đều âm thì in ra \"Yes\", ngược lại in ra \"No\".\"\"\"\n",
        "a, b = map(int, input(\"Nhập 2 số nguyên: \").split())\n",
        "if a < 0 and b < 0:\n",
        "    print(\"Yes\")\n",
        "else:\n",
        "    print(\"No\")"
      ],
      "metadata": {
        "id": "0HbG3kXQGK_g"
      },
      "execution_count": null,
      "outputs": []
    },
    {
      "cell_type": "code",
      "source": [
        "#8\n",
        "\"\"\"[Longer string]\n",
        "Nhập vào hai chuỗi a, b gồm các chữ cái thường. In ra \"True\" nếu chuỗi a dài hơn chuỗi b. Ngược\n",
        "lại in ra \"False\".\"\"\"\n",
        "a, b = map(str, input(\"Nhập 2 chuỗi: \").split())\n",
        "if len(a) > len(b):\n",
        "    print(\"True\")\n",
        "else:\n",
        "    print(\"False\")"
      ],
      "metadata": {
        "id": "iTWXEw3BGPc_",
        "colab": {
          "base_uri": "https://localhost:8080/"
        },
        "outputId": "0386db2c-3b34-45a8-dfa3-0b6bcae4464d"
      },
      "execution_count": 17,
      "outputs": [
        {
          "output_type": "stream",
          "name": "stdout",
          "text": [
            "Nhập 2 chuỗi: false true\n",
            "True\n"
          ]
        }
      ]
    },
    {
      "cell_type": "code",
      "source": [
        "#9\n",
        "\"\"\"[Triangle]\n",
        "Nhập vào 3 số nguyên dương a, b, c. Kiểm tra xem a, b, c có cấu thành độ dài cạnh của 1 tam giác\n",
        "được không. Nếu a, b, c cấu tạo thành được một tam giác, in ra \"Yes\". Ngược lại in ra \"No\".\"\"\"\n",
        "a, b, c = map(int, input(\"Nhập độ dài 3 cạnh của tam giác: \").split())\n",
        "print(\"a b c có cấu thành tam giác?:\")\n",
        "if a + b > c and a + c > b and b + c > a:\n",
        "    print(\"Yes\")\n",
        "else:\n",
        "    print(\"No\")"
      ],
      "metadata": {
        "id": "D-hipc5_GT8Z",
        "colab": {
          "base_uri": "https://localhost:8080/"
        },
        "outputId": "685e9a98-a5b5-4681-e9bd-376929d92440"
      },
      "execution_count": 13,
      "outputs": [
        {
          "output_type": "stream",
          "name": "stdout",
          "text": [
            "Nhập độ dài 3 cạnh của tam giác: 4 4 4\n",
            "a b c có cấu thành tam giác?:\n",
            "Yes\n"
          ]
        }
      ]
    },
    {
      "cell_type": "code",
      "source": [
        "#10\n",
        "\"\"\"[Largest number]\n",
        "Nhập vào 4 số nguyên. In ra màn hình số nguyên lớn nhất trong 4 số.\"\"\"\n",
        "a, b, c, d = map(int, input(\"Nhập 4 số nguyên: \").split())\n",
        "print(max(a, b, c, d))"
      ],
      "metadata": {
        "id": "TwgrFmZmGa3t",
        "colab": {
          "base_uri": "https://localhost:8080/"
        },
        "outputId": "4cc7988c-2759-48ed-d5d7-b7ecf13158bc"
      },
      "execution_count": 11,
      "outputs": [
        {
          "output_type": "stream",
          "name": "stdout",
          "text": [
            "Nhập 4 số nguyên: 4 9 6 7\n",
            "9\n"
          ]
        }
      ]
    },
    {
      "cell_type": "code",
      "source": [
        "#11\n",
        "\"\"\"[Phân loại tam giác]\n",
        "Nhập vào 3 số nguyên dương a,b,c là độ dài 3 cạnh của một tam giác. Kiểm tra 3 số đã nhập có tạo thành\n",
        "một tam giác hợp lệ hay không. Nếu không in ra \"Không phải tam giác\". Nếu có, phân loại tam giác đó là\n",
        "\"Tam giác đều\", \"Tam giác cân\", hay \"Tam giác thường\" \"\"\"\n",
        "a, b, c = map(int, input(\"Nhập độ dài 3 cạnh của tam giác: \").split())\n",
        "if a + b > c and a + c > b and b + c > a:\n",
        "    if a == b == c:\n",
        "        print(\"Tam giác đều\")\n",
        "    elif a == b or a == c or b == c:\n",
        "        print(\"Tam giác cân\")\n",
        "    else:\n",
        "        print(\"Tam giác thường\")\n",
        "else:\n",
        "    print(\"Không phải tam giác\")"
      ],
      "metadata": {
        "id": "rzCsWZhUG5pQ",
        "colab": {
          "base_uri": "https://localhost:8080/"
        },
        "outputId": "a7cb2765-5451-439f-9145-faa0708ea10b"
      },
      "execution_count": 9,
      "outputs": [
        {
          "output_type": "stream",
          "name": "stdout",
          "text": [
            "Nhập độ dài 3 cạnh của tam giác: 5 5 5\n",
            "Tam giác đều\n"
          ]
        }
      ]
    },
    {
      "cell_type": "code",
      "source": [
        "#12\n",
        "\"\"\"[Kiểm tra năm nhuận]\n",
        "Nhập vào một số nguyên dương n là số năm, kiểm tra xem năm đó có phải là năm nhuận hay không. Năm\n",
        "nhuận là năm chia hết cho 4 nhưng không chia hết cho 100, hoặc chia hết cho 400. Nếu là năm nhuận in ra\n",
        "\"Yes\", nếu không in ra \"No\" \"\"\"\n",
        "a = int(input(\"Nhập vào năm: \"))\n",
        "if a % 4 == 0 and a % 100 != 0 or a % 400 == 0:\n",
        "    print(\"Năm nhuận\")\n",
        "else:\n",
        "    print(\"Không phải năm nhuận\")"
      ],
      "metadata": {
        "id": "rlmxX6pdHABI",
        "colab": {
          "base_uri": "https://localhost:8080/"
        },
        "outputId": "76a407e4-18aa-414b-a01b-c3bf2634461f"
      },
      "execution_count": 7,
      "outputs": [
        {
          "output_type": "stream",
          "name": "stdout",
          "text": [
            "Nhập vào năm: 100\n",
            "Không phải năm nhuận\n"
          ]
        }
      ]
    },
    {
      "cell_type": "code",
      "source": [
        "#13\n",
        "\"\"\"[Tính tiền điện]\n",
        "Nhập vào số kWh điện tiêu thụ. Tính tiền điện theo các bậc sau:\n",
        "- 0-50 kWh: 1500đ/kWh\n",
        "- 51-100 kWh: 2000đ/kWh\n",
        "- 100 kWh: 3000đ/kWh\"\"\"\n",
        "\n",
        "a = int(input(\"Nhập vào số kWh điện tiêu thụ: \"))\n",
        "if a <= 50:\n",
        "    print(f\"Tiền điện là: {a * 1500} đ\")\n",
        "elif a <= 100:\n",
        "    print(f\"Tiền điện là: \", (50 * 1500 + (a - 50) * 2000), \"đ\")\n",
        "else:\n",
        "    print(f\"Tiền điện là: \", (50 * 1500 + 50 * 2000 + (a - 100) * 3000), \"đ\")\n"
      ],
      "metadata": {
        "id": "fHgBys0dHLXs",
        "colab": {
          "base_uri": "https://localhost:8080/"
        },
        "outputId": "9daf3153-1691-4c55-a1f0-9ec9621239e1"
      },
      "execution_count": 5,
      "outputs": [
        {
          "output_type": "stream",
          "name": "stdout",
          "text": [
            "Nhập vào số kWh điện tiêu thụ: 120\n",
            "Tiền điện là:  235000 đ\n"
          ]
        }
      ]
    },
    {
      "cell_type": "code",
      "source": [
        "#14\n",
        "\"\"\"[Giải phương trình bậc nhất]\n",
        "Nhập vào hai số thực a và b của phương trình ax + b = 0. Tìm và in ra nghiệm của phương trình, kết quả\n",
        "làm tròn đến số thập phân thứ 2. In ra \"Vô nghiệm\" hoặc \"Vô số nghiệm\" trong trường hợp tương ứng.\"\"\"\n",
        "a, b = map(float, input(\"Nhập a và b của phương trình ax + b = 0: \").split())\n",
        "n = -b/a\n",
        "#ax + b = 0\n",
        "if a == 0:\n",
        "    if b == 0:\n",
        "        print(\"Vô số nghiệm\")\n",
        "    else:\n",
        "        print(\"Vô nghiệm\")\n",
        "else:\n",
        "    print(f\"Phương trình {a}x + {b} = 0 có nghiệm là: {n:.2f}\")"
      ],
      "metadata": {
        "id": "KEnzj6mvHQv8",
        "colab": {
          "base_uri": "https://localhost:8080/"
        },
        "outputId": "43c5a15a-a866-432b-d200-25a799534fcc"
      },
      "execution_count": 4,
      "outputs": [
        {
          "output_type": "stream",
          "name": "stdout",
          "text": [
            "Nhập a và b của phương trình ax + b = 0: -5 6\n",
            "Phương trình -5.0x + 6.0 = 0 có nghiệm là: 1.20\n"
          ]
        }
      ]
    },
    {
      "cell_type": "code",
      "source": [
        "#15\n",
        "\"\"\"[Xếp loại học lực]\n",
        "Nhập vào điểm trung bình của một học sinh và in ra học lực của học sinh đó. Xếp loại học lực theo quy tắc:\n",
        "- >= 8.0: Giỏi\n",
        "- >= 6.5: Khá\n",
        "- >= 5.0: Trung bình\n",
        "- < 5.0: Yếu\"\"\"\n",
        "\n",
        "a = float(input(\"Nhập điểm trung bình: \"))\n",
        "if a >= 8.0:\n",
        "    print(\"Giỏi\")\n",
        "elif a >= 6.5:\n",
        "    print(\"Khá\")\n",
        "elif a >= 5.0:\n",
        "    print(\"Trung bình\")\n",
        "else:\n",
        "    print(\"Yếu\")"
      ],
      "metadata": {
        "colab": {
          "base_uri": "https://localhost:8080/"
        },
        "id": "13YVDcleHVXw",
        "outputId": "85d68bf1-b793-4f9a-ff16-3295cf730be3"
      },
      "execution_count": null,
      "outputs": [
        {
          "output_type": "stream",
          "name": "stdout",
          "text": [
            "Nhập điểm trung bình: 10\n",
            "Giỏi\n"
          ]
        }
      ]
    },
    {
      "cell_type": "code",
      "source": [
        "#16\n",
        "\"\"\"[Rounding]\n",
        "Nhập vào một số thực: in ra kết quả làm tròn lên ,tròn xuống, làm tròn tới số nguyên gần nhất (không được\n",
        "sử dụng hàm sẵn có của python). Các kết quả cách nhau một dấu cách\"\"\"\n",
        "a = float(input(\"Nhập số thực: \"))\n",
        "print(f\"{round(a)}\")"
      ],
      "metadata": {
        "id": "pMMAnjnTHZf0",
        "colab": {
          "base_uri": "https://localhost:8080/"
        },
        "outputId": "b4a6a038-3cd2-48fe-87c1-e8901742425f"
      },
      "execution_count": 1,
      "outputs": [
        {
          "output_type": "stream",
          "name": "stdout",
          "text": [
            "Nhập số thực: 5.8\n",
            "6 6.0 10.0\n"
          ]
        }
      ]
    },
    {
      "cell_type": "code",
      "source": [
        "#17\n",
        "\"\"\"[Phân loại tam giác]\n",
        "Nhập vào 3 số nguyên dương a,b,c là độ dài 3 cạnh của một tam giác. Kiểm tra 3 số đã nhập có tạo thành\n",
        "một tam giác hợp lệ hay không. Nếu không in ra \"Không phải tam giác\". Nếu có, phân loại tam giác đó là\n",
        "\"Tam giác đều\", \"Tam giác cân\", hay \"Tam giác thường\".\"\"\"\n",
        "\n",
        "a, b, c = map(int, input(\"Nhập độ dài 3 cạnh của tam giác: \").split())\n",
        "if a + b > c and a + c > b and b + c > a:\n",
        "    if a == b == c:\n",
        "        print(\"Tam giác đều\")\n",
        "    elif a == b or a == c or b == c:\n",
        "        print(\"Tam giác cân\")\n",
        "    else:\n",
        "        print(\"Tam giác thường\")\n",
        "else:\n",
        "    print(\"Không phải tam giác\")"
      ],
      "metadata": {
        "colab": {
          "base_uri": "https://localhost:8080/"
        },
        "id": "8w45XeyKHdeH",
        "outputId": "c035a2a7-c04c-4fcb-8aca-600db6119c01"
      },
      "execution_count": null,
      "outputs": [
        {
          "output_type": "stream",
          "name": "stdout",
          "text": [
            "Nhập độ dài 3 cạnh của tam giác: 3 3 3\n",
            "Tam giác đều\n"
          ]
        }
      ]
    }
  ]
}