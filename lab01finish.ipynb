{
  "nbformat": 4,
  "nbformat_minor": 0,
  "metadata": {
    "colab": {
      "provenance": [],
      "authorship_tag": "ABX9TyOw/XAags+IypTdRz4Iij24",
      "include_colab_link": true
    },
    "kernelspec": {
      "name": "python3",
      "display_name": "Python 3"
    },
    "language_info": {
      "name": "python"
    }
  },
  "cells": [
    {
      "cell_type": "markdown",
      "metadata": {
        "id": "view-in-github",
        "colab_type": "text"
      },
      "source": [
        "<a href=\"https://colab.research.google.com/github/tp-coder-2006/COMP8/blob/main/lab01finish.ipynb\" target=\"_parent\"><img src=\"https://colab.research.google.com/assets/colab-badge.svg\" alt=\"Open In Colab\"/></a>"
      ]
    },
    {
      "cell_type": "code",
      "execution_count": null,
      "metadata": {
        "colab": {
          "base_uri": "https://localhost:8080/"
        },
        "id": "4FEOZLk-ki6k",
        "outputId": "557dd6ad-a56a-48fb-c618-7289ed31a9f5"
      },
      "outputs": [
        {
          "output_type": "stream",
          "name": "stdout",
          "text": [
            "Hello World!\n"
          ]
        }
      ],
      "source": [
        "#W2A1\n",
        "print(\"Hello World!\")"
      ]
    },
    {
      "cell_type": "code",
      "source": [
        "#W2A2\n",
        "name = input(\"What is your name?\\n My name is: \")\n",
        "print(\"Hello \" + name)"
      ],
      "metadata": {
        "colab": {
          "base_uri": "https://localhost:8080/"
        },
        "id": "cweWk7Xak8Mr",
        "outputId": "9836a5fc-2cfd-44ba-e4e3-e3bc6dfef6f3"
      },
      "execution_count": null,
      "outputs": [
        {
          "output_type": "stream",
          "name": "stdout",
          "text": [
            "What is your name?\n",
            " My name is: name\n",
            "Hello name\n"
          ]
        }
      ]
    },
    {
      "cell_type": "code",
      "source": [
        "#W2A3\n",
        "a, b = map(int, input(\"Nhập 2 số nguyên: \").split())\n",
        "print(\"a + b =\", a + b)\n",
        "print(\"a - b =\", a - b)\n",
        "print(\"a * b =\", a * b)\n",
        "print(\"a // b =\", a // b)\n",
        "print(\"a % b =\", a % b)\n",
        "print(\"a / b =\", round(a/b, 2))"
      ],
      "metadata": {
        "colab": {
          "base_uri": "https://localhost:8080/"
        },
        "id": "SVneuIaOPdcT",
        "outputId": "a60cba74-181f-4d5c-c7ce-91b1ad69671a"
      },
      "execution_count": 2,
      "outputs": [
        {
          "output_type": "stream",
          "name": "stdout",
          "text": [
            "Nhập 2 số nguyên:4 3\n",
            "a + b = 7\n",
            "a - b = 1\n",
            "a * b = 12\n",
            "a // b = 1\n",
            "a % b = 1\n",
            "a / b = 1.33\n"
          ]
        }
      ]
    },
    {
      "cell_type": "code",
      "source": [
        "#W2A4\n",
        "a, b, c, d, e, f = map(float, input(\"Nhập 6 đầu điểm theo thứ tự a1 b1 c1 a2 b2 a3: \").split())\n",
        "\"\"\"a b c là đầu điểm hệ số 1\n",
        "d e là đầu điểm hệ số 2\n",
        "f là đầu điểm hệ số 3\n",
        "\"\"\"\n",
        "tb = round(((a+b+c)+(d+e)*2+f*3)/10, 1)\n",
        "print(\"Điểm trung bình môn học của 6 môn học là:\", tb)\n",
        "\n"
      ],
      "metadata": {
        "colab": {
          "base_uri": "https://localhost:8080/"
        },
        "id": "yLqHLhcvQHVn",
        "outputId": "2ef1dc8f-ceae-4425-b6f0-0ac7ffb3e538"
      },
      "execution_count": 19,
      "outputs": [
        {
          "output_type": "stream",
          "name": "stdout",
          "text": [
            "Nhập 6 đầu điểm theo thứ tự a1 b1 c1 a2 b2 a3: 2.11 2.44 6.44 5.65 7.72 3.44\n",
            "Điểm trung bình môn học của 6 môn học là: 4.8\n"
          ]
        }
      ]
    },
    {
      "cell_type": "code",
      "source": [
        "#W2A5\n",
        "a, b = map(int, input(\"Nhập 2 số a và b theo thứ tự để tính a^b: \").split())\n",
        "print(\"a^b =\", a**b)"
      ],
      "metadata": {
        "colab": {
          "base_uri": "https://localhost:8080/"
        },
        "id": "0oUxmZEjRfYS",
        "outputId": "5c5f78ff-8c23-48b3-94f6-8e65326666fe"
      },
      "execution_count": 5,
      "outputs": [
        {
          "output_type": "stream",
          "name": "stdout",
          "text": [
            "Nhập 2 số a và b theo thứ tự để tính a^b: 5 2\n",
            "a^b = 25\n"
          ]
        }
      ]
    },
    {
      "cell_type": "code",
      "source": [
        "#W2A6\n",
        "a = input(\"Nhập 1 ký tự thường từ a-z: \")\n",
        "print(\"Ký tự hoa của ký tự thường bạn vừa nhập là \" + chr(ord(a)+(ord(\"A\")-ord(\"a\"))))"
      ],
      "metadata": {
        "colab": {
          "base_uri": "https://localhost:8080/"
        },
        "id": "apo3j7DdR6pY",
        "outputId": "5c09ed36-0e1c-444f-bf51-51d512942356"
      },
      "execution_count": 7,
      "outputs": [
        {
          "output_type": "stream",
          "name": "stdout",
          "text": [
            "Nhập 1 ký tự thường từ a-z: f\n",
            "Ký tự hoa của ký tự thường bạn vừa nhập là F\n"
          ]
        }
      ]
    },
    {
      "cell_type": "code",
      "source": [
        "#W2A7\n",
        "a = ((13 ** 2) * 3) + 5\n",
        "b =13 ** 2 * 3 + 5\n",
        "print(\"a =\", a)\n",
        "print(\"b =\", b)"
      ],
      "metadata": {
        "colab": {
          "base_uri": "https://localhost:8080/"
        },
        "id": "rWvYbjwXQcOl",
        "outputId": "c1f67290-ad17-41a9-f8c3-70f1da412c88"
      },
      "execution_count": 8,
      "outputs": [
        {
          "output_type": "stream",
          "name": "stdout",
          "text": [
            "a = 512\n",
            "b = 512\n"
          ]
        }
      ]
    },
    {
      "cell_type": "code",
      "source": [
        "#W2A8\n",
        "cdegree = int(input(\"Nhập số độ C: \"))\n",
        "print(\"Số độ F tương ứng là:\", (9/5)*cdegree+32)"
      ],
      "metadata": {
        "colab": {
          "base_uri": "https://localhost:8080/"
        },
        "id": "7cQszZyKQzkl",
        "outputId": "ed023d32-b445-48e8-cba0-cf8f4503ad69"
      },
      "execution_count": 10,
      "outputs": [
        {
          "output_type": "stream",
          "name": "stdout",
          "text": [
            "Nhập số độ C: 0\n",
            "Số độ F tương ứng là: 32.0\n"
          ]
        }
      ]
    },
    {
      "cell_type": "code",
      "source": [
        "#W2A9\n",
        "x = float(input(\"Nhập số tiền USD cho đồng hồ: \"))\n",
        "final = round(10+1.4*x, 2)\n",
        "print(f\"Số tiền cần phải trả là: {final:.2f}\")"
      ],
      "metadata": {
        "colab": {
          "base_uri": "https://localhost:8080/"
        },
        "id": "SZE1IxkCSB0U",
        "outputId": "83c5bf58-64e3-45c1-dd4a-b83fb6d0a7d2"
      },
      "execution_count": 24,
      "outputs": [
        {
          "output_type": "stream",
          "name": "stdout",
          "text": [
            "Nhập số tiền USD cho đồng hồ: 6\n",
            "Số tiền cần phải trả là: 18.40\n"
          ]
        }
      ]
    },
    {
      "cell_type": "code",
      "source": [
        "#W2A10\n",
        "a, b, c = input(\"Name of 3 people: \").split()\n",
        "print (f\"Hello, {c}, {b}, {a}\")"
      ],
      "metadata": {
        "id": "c56KpRm9k8_t",
        "colab": {
          "base_uri": "https://localhost:8080/"
        },
        "outputId": "b7bef922-a9d5-4256-946d-bd79cd06b5c1"
      },
      "execution_count": null,
      "outputs": [
        {
          "output_type": "stream",
          "name": "stdout",
          "text": [
            "Name of 3 people: a c d\n",
            "Hello, d, c, a\n"
          ]
        }
      ]
    },
    {
      "cell_type": "code",
      "source": [
        "#W2A11\n",
        "h, m = map(int, input(\"Nhập giờ và phút: \").split())\n",
        "s = h*60*60+m*60\n",
        "print(f\"Số giây tương ứng là: {s}\")"
      ],
      "metadata": {
        "colab": {
          "base_uri": "https://localhost:8080/"
        },
        "id": "-r2I0tFdVpqV",
        "outputId": "964855e1-0ab9-4d13-ba66-09a8fbed3385"
      },
      "execution_count": 26,
      "outputs": [
        {
          "output_type": "stream",
          "name": "stdout",
          "text": [
            "Nhập giờ và phút: 2 30\n",
            "Số giây tương ứng là: 9000\n"
          ]
        }
      ]
    },
    {
      "cell_type": "code",
      "source": [
        "#W2A12\n",
        "n = int(input(\"Nhập độ dài cạnh rubik: \"))\n",
        "s = (n**2)*6\n",
        "print(f\"Số lượng miếng dán riêng lẻ là: {s}\")"
      ],
      "metadata": {
        "colab": {
          "base_uri": "https://localhost:8080/"
        },
        "id": "NHya1o9TWTpA",
        "outputId": "dcc02978-f44d-4916-cbe2-6977a6620bef"
      },
      "execution_count": 1,
      "outputs": [
        {
          "output_type": "stream",
          "name": "stdout",
          "text": [
            "Nhập độ dài cạnh rubik: 5\n",
            "Số lượng miếng dán riêng lẻ là: 150\n"
          ]
        }
      ]
    },
    {
      "cell_type": "code",
      "source": [
        "#W2A13\n",
        "a, b = map(int, input(\"Nhập 2 số nguyên: \").split())\n",
        "c = str(a*b)\n",
        "d = len(c)\n",
        "e = int(c[d-1])\n",
        "print(f\"Hàng đơn vị của tích a và b là: {e}\")"
      ],
      "metadata": {
        "colab": {
          "base_uri": "https://localhost:8080/"
        },
        "id": "yrNSwVgH-PSX",
        "outputId": "5d40183c-687e-4075-ef29-a55d5420eeb8"
      },
      "execution_count": 6,
      "outputs": [
        {
          "output_type": "stream",
          "name": "stdout",
          "text": [
            "Nhập 2 số nguyên: 7 9\n",
            "Hàng đơn vị của tích a và b là: 3\n"
          ]
        }
      ]
    },
    {
      "cell_type": "code",
      "source": [
        "#W2A14\n",
        "a, b = map(int, input(\"Nhập 2 số nguyên: \").split())\n",
        "c = a\n",
        "a = b\n",
        "b = c\n",
        "print(f\"a = {a}, b = {b}\")"
      ],
      "metadata": {
        "colab": {
          "base_uri": "https://localhost:8080/"
        },
        "id": "AT6uNjZD_U0n",
        "outputId": "608b1c14-78a8-405b-967b-09e4301135a4"
      },
      "execution_count": 9,
      "outputs": [
        {
          "output_type": "stream",
          "name": "stdout",
          "text": [
            "Nhập 2 số nguyên: 5 6\n",
            "a = 6, b = 5\n"
          ]
        }
      ]
    },
    {
      "cell_type": "code",
      "source": [
        "#W2A15\n"
      ],
      "metadata": {
        "id": "imtdn2X_CeI-"
      },
      "execution_count": null,
      "outputs": []
    },
    {
      "cell_type": "code",
      "source": [
        "#W2A16\n",
        "print(\"Spring\\nSummer\\nAutumn\\nWinter\")"
      ],
      "metadata": {
        "colab": {
          "base_uri": "https://localhost:8080/"
        },
        "id": "0V_nAL9Xk-is",
        "outputId": "5e2a5912-5006-43a5-ca9d-4cf4137f2a91"
      },
      "execution_count": null,
      "outputs": [
        {
          "output_type": "stream",
          "name": "stdout",
          "text": [
            "Spring\n",
            "Summer\n",
            "Autumn\n",
            "Winter\n"
          ]
        }
      ]
    },
    {
      "cell_type": "code",
      "source": [
        "#W2A17\n",
        "for i in range(1, 6, 2):\n",
        "  print(\"*\"*i)"
      ],
      "metadata": {
        "colab": {
          "base_uri": "https://localhost:8080/"
        },
        "id": "yemQT4Ktk_2T",
        "outputId": "c9c0aabd-cd54-4ead-ced4-be8aaa726842"
      },
      "execution_count": null,
      "outputs": [
        {
          "output_type": "stream",
          "name": "stdout",
          "text": [
            "*\n",
            "***\n",
            "*****\n"
          ]
        }
      ]
    },
    {
      "cell_type": "code",
      "source": [
        "#W2A18\n",
        "print(\"### # #  ### ###\\n #  #  #  #   #\\n #  #   # #   #\")\n",
        "print(\" #  #  #  #   #\\n #  # #   #   #\")"
      ],
      "metadata": {
        "colab": {
          "base_uri": "https://localhost:8080/"
        },
        "id": "2bTtaUa4lBBi",
        "outputId": "3809350d-89a2-4831-dcb9-8a6193393f0a"
      },
      "execution_count": null,
      "outputs": [
        {
          "output_type": "stream",
          "name": "stdout",
          "text": [
            "### # #  ### ###\n",
            " #  #  #  #   #\n",
            " #  #   # #   #\n",
            " #  #  #  #   #\n",
            " #  # #   #   #\n"
          ]
        }
      ]
    },
    {
      "cell_type": "code",
      "source": [
        "#W2A19\n",
        "print(\"Monday\\nTuesday\\nWednesday\\nThursday\\nFriday\\nSaturday\\nSunday\")"
      ],
      "metadata": {
        "colab": {
          "base_uri": "https://localhost:8080/"
        },
        "id": "_Ag3NebDlCMS",
        "outputId": "c8ccdd76-8fd8-4b98-8adc-2bd1b7be5fbf"
      },
      "execution_count": null,
      "outputs": [
        {
          "output_type": "stream",
          "name": "stdout",
          "text": [
            "Monday\n",
            "Tuesday\n",
            "Wednesday\n",
            "Thursday\n",
            "Friday\n",
            "Saturday\n",
            "Sunday\n"
          ]
        }
      ]
    },
    {
      "cell_type": "code",
      "source": [
        "#W2A20\n",
        "print(\"January\\nFebruary\\nMarch\\nApril\\nMay\\nJune\\nJuly\\nAugust\\nSeptember\\nOctober\\nNovember\\nDecember\")"
      ],
      "metadata": {
        "colab": {
          "base_uri": "https://localhost:8080/"
        },
        "id": "HdwXHd1AlDh8",
        "outputId": "b7858796-4239-45e7-f8ce-9872a6deba6e"
      },
      "execution_count": null,
      "outputs": [
        {
          "output_type": "stream",
          "name": "stdout",
          "text": [
            "January\n",
            "February\n",
            "March\n",
            "April\n",
            "May\n",
            "June\n",
            "July\n",
            "August\n",
            "September\n",
            "October\n",
            "November\n",
            "December\n"
          ]
        }
      ]
    },
    {
      "cell_type": "code",
      "source": [
        "#W2A21\n",
        "print(\"Hello, world\\n\"*9+\"Hello, world\")"
      ],
      "metadata": {
        "colab": {
          "base_uri": "https://localhost:8080/"
        },
        "id": "OeD0axgslFHA",
        "outputId": "c0fcb297-7925-4397-8f62-19fee0cacb3b"
      },
      "execution_count": null,
      "outputs": [
        {
          "output_type": "stream",
          "name": "stdout",
          "text": [
            "Hello, world\n",
            "Hello, world\n",
            "Hello, world\n",
            "Hello, world\n",
            "Hello, world\n",
            "Hello, world\n",
            "Hello, world\n",
            "Hello, world\n",
            "Hello, world\n",
            "Hello, world\n"
          ]
        }
      ]
    }
  ]
}